{
 "cells": [
  {
   "cell_type": "markdown",
   "metadata": {},
   "source": [
    "Eleni Paipeti s5350816"
   ]
  },
  {
   "cell_type": "markdown",
   "metadata": {
    "id": "rbgjVp6BXGCT"
   },
   "source": [
    "\n",
    "# **Assignment 1**\n",
    "\n",
    "\n",
    "## Task 1. Correlation\n",
    "We will use the data example from the textbook \"Statistical Analysis with The General Linear Model\" by Miller and Haden (2013), Chapter 11.\n",
    "\n",
    "As in Miller and Haden, we have five columns:\n",
    "\n",
    "-Participant (Participant),\n",
    "\n",
    "-Reading Ability (Abil),\n",
    "\n",
    "-Intelligence (IQ),\n",
    "\n",
    "-Number of minutes spent reading at home per week (Home),\n",
    "\n",
    "-Number of minutes spent watching TV per week (TV).\n",
    "\n",
    "\n",
    "For the task we will focus on the relationship between Reading Ability and IQ, but for further practice you can look at other relationships on your own."
   ]
  },
  {
   "cell_type": "markdown",
   "metadata": {
    "id": "Z4cXzKORYFaD"
   },
   "source": [
    "**Question 1**:\n",
    "\n",
    "a. Check whether the data is interval, ratio, or ordinal.\n",
    "\n",
    "b. Check whether there is a data point for each participant on both variables.\n",
    "\n",
    "c. Check whether the data is normally distributed in both variables.\n",
    "\n",
    "d. Create a scatter plot with Reading Ability being the x-axis and IQ, being the y-axis.\n",
    "\n",
    "e. Draw a correlation line on the scatter plot.\n",
    "\n",
    "\n",
    "**Instructions:**\n",
    "\n",
    "1. Load the necessary libraries and explain why you need them (\"#used for ...\").\n",
    "\n",
    "2. Read the MillerHadenData.csv file into a DataFrame and name it \"df_mh\"."
   ]
  },
  {
   "cell_type": "code",
   "execution_count": 96,
   "metadata": {
    "id": "140M8Z4qYn_G"
   },
   "outputs": [],
   "source": [
    "import pandas as pd # used for data wrangling\n",
    "import seaborn as sns # used for visualization\n",
    "import matplotlib  # used for visualization\n",
    "from matplotlib import pyplot as plt # used for ploting\n",
    "import pylab # used for ploting related functions\n",
    "import pingouin as pg # used for statistics\n",
    "import scipy.stats as stats # used for statistics\n",
    "import numpy as np #used for mathematical and statistical functions\n",
    "df_mh = pd.read_csv('data for A1/MillerHadenData.csv')\n",
    "\n"
   ]
  },
  {
   "cell_type": "markdown",
   "metadata": {},
   "source": [
    "Q1a (code):"
   ]
  },
  {
   "cell_type": "code",
   "execution_count": 124,
   "metadata": {},
   "outputs": [
    {
     "data": {
      "text/html": [
       "<div>\n",
       "<style scoped>\n",
       "    .dataframe tbody tr th:only-of-type {\n",
       "        vertical-align: middle;\n",
       "    }\n",
       "\n",
       "    .dataframe tbody tr th {\n",
       "        vertical-align: top;\n",
       "    }\n",
       "\n",
       "    .dataframe thead th {\n",
       "        text-align: right;\n",
       "    }\n",
       "</style>\n",
       "<table border=\"1\" class=\"dataframe\">\n",
       "  <thead>\n",
       "    <tr style=\"text-align: right;\">\n",
       "      <th></th>\n",
       "      <th>Participant</th>\n",
       "      <th>Abil</th>\n",
       "      <th>IQ</th>\n",
       "      <th>Home</th>\n",
       "      <th>TV</th>\n",
       "      <th>Rank_Abil</th>\n",
       "      <th>Rank_Home</th>\n",
       "    </tr>\n",
       "  </thead>\n",
       "  <tbody>\n",
       "    <tr>\n",
       "      <th>0</th>\n",
       "      <td>1</td>\n",
       "      <td>61</td>\n",
       "      <td>107</td>\n",
       "      <td>144</td>\n",
       "      <td>487</td>\n",
       "      <td>High</td>\n",
       "      <td>Frequent</td>\n",
       "    </tr>\n",
       "    <tr>\n",
       "      <th>1</th>\n",
       "      <td>2</td>\n",
       "      <td>56</td>\n",
       "      <td>109</td>\n",
       "      <td>123</td>\n",
       "      <td>608</td>\n",
       "      <td>High</td>\n",
       "      <td>Non-frequent</td>\n",
       "    </tr>\n",
       "    <tr>\n",
       "      <th>2</th>\n",
       "      <td>3</td>\n",
       "      <td>45</td>\n",
       "      <td>81</td>\n",
       "      <td>108</td>\n",
       "      <td>640</td>\n",
       "      <td>Low</td>\n",
       "      <td>Non-frequent</td>\n",
       "    </tr>\n",
       "    <tr>\n",
       "      <th>3</th>\n",
       "      <td>4</td>\n",
       "      <td>66</td>\n",
       "      <td>100</td>\n",
       "      <td>155</td>\n",
       "      <td>493</td>\n",
       "      <td>High</td>\n",
       "      <td>Frequent</td>\n",
       "    </tr>\n",
       "    <tr>\n",
       "      <th>4</th>\n",
       "      <td>5</td>\n",
       "      <td>49</td>\n",
       "      <td>92</td>\n",
       "      <td>103</td>\n",
       "      <td>636</td>\n",
       "      <td>Low</td>\n",
       "      <td>Non-frequent</td>\n",
       "    </tr>\n",
       "  </tbody>\n",
       "</table>\n",
       "</div>"
      ],
      "text/plain": [
       "   Participant  Abil   IQ  Home   TV Rank_Abil     Rank_Home\n",
       "0            1    61  107   144  487      High      Frequent\n",
       "1            2    56  109   123  608      High  Non-frequent\n",
       "2            3    45   81   108  640       Low  Non-frequent\n",
       "3            4    66  100   155  493      High      Frequent\n",
       "4            5    49   92   103  636       Low  Non-frequent"
      ]
     },
     "execution_count": 124,
     "metadata": {},
     "output_type": "execute_result"
    }
   ],
   "source": [
    "#Display first few rows of the dataframe\n",
    "df_mh.head()"
   ]
  },
  {
   "cell_type": "markdown",
   "metadata": {},
   "source": [
    "\"Participant\" values are nominal data as it is assigned for identification purposes.\n",
    "\"Abil\", \"IQ\" are interval data the difference betweeen them is meaningfull, while \"Home\" and \"TV\" are ratio data as there is a true zero point and the difference between them has a meaning."
   ]
  },
  {
   "cell_type": "code",
   "execution_count": 98,
   "metadata": {
    "id": "rwqidw5q2D1n"
   },
   "outputs": [
    {
     "name": "stdout",
     "output_type": "stream",
     "text": [
      "<class 'pandas.core.frame.DataFrame'>\n",
      "RangeIndex: 25 entries, 0 to 24\n",
      "Data columns (total 5 columns):\n",
      " #   Column       Non-Null Count  Dtype\n",
      "---  ------       --------------  -----\n",
      " 0   Participant  25 non-null     int64\n",
      " 1   Abil         25 non-null     int64\n",
      " 2   IQ           25 non-null     int64\n",
      " 3   Home         25 non-null     int64\n",
      " 4   TV           25 non-null     int64\n",
      "dtypes: int64(5)\n",
      "memory usage: 1.1 KB\n"
     ]
    }
   ],
   "source": [
    "# Check data types and information\n",
    "df_mh.info()"
   ]
  },
  {
   "cell_type": "markdown",
   "metadata": {},
   "source": [
    " Q1b (code):"
   ]
  },
  {
   "cell_type": "code",
   "execution_count": 30,
   "metadata": {
    "id": "Edd9mYgi2Jar"
   },
   "outputs": [
    {
     "data": {
      "text/html": [
       "<div>\n",
       "<style scoped>\n",
       "    .dataframe tbody tr th:only-of-type {\n",
       "        vertical-align: middle;\n",
       "    }\n",
       "\n",
       "    .dataframe tbody tr th {\n",
       "        vertical-align: top;\n",
       "    }\n",
       "\n",
       "    .dataframe thead th {\n",
       "        text-align: right;\n",
       "    }\n",
       "</style>\n",
       "<table border=\"1\" class=\"dataframe\">\n",
       "  <thead>\n",
       "    <tr style=\"text-align: right;\">\n",
       "      <th></th>\n",
       "      <th>Participant</th>\n",
       "      <th>Abil</th>\n",
       "      <th>IQ</th>\n",
       "      <th>Home</th>\n",
       "      <th>TV</th>\n",
       "      <th>Rank_Abil</th>\n",
       "      <th>Rank_Home</th>\n",
       "    </tr>\n",
       "  </thead>\n",
       "  <tbody>\n",
       "    <tr>\n",
       "      <th>0</th>\n",
       "      <td>False</td>\n",
       "      <td>False</td>\n",
       "      <td>False</td>\n",
       "      <td>False</td>\n",
       "      <td>False</td>\n",
       "      <td>False</td>\n",
       "      <td>False</td>\n",
       "    </tr>\n",
       "    <tr>\n",
       "      <th>1</th>\n",
       "      <td>False</td>\n",
       "      <td>False</td>\n",
       "      <td>False</td>\n",
       "      <td>False</td>\n",
       "      <td>False</td>\n",
       "      <td>False</td>\n",
       "      <td>False</td>\n",
       "    </tr>\n",
       "    <tr>\n",
       "      <th>2</th>\n",
       "      <td>False</td>\n",
       "      <td>False</td>\n",
       "      <td>False</td>\n",
       "      <td>False</td>\n",
       "      <td>False</td>\n",
       "      <td>False</td>\n",
       "      <td>False</td>\n",
       "    </tr>\n",
       "    <tr>\n",
       "      <th>3</th>\n",
       "      <td>False</td>\n",
       "      <td>False</td>\n",
       "      <td>False</td>\n",
       "      <td>False</td>\n",
       "      <td>False</td>\n",
       "      <td>False</td>\n",
       "      <td>False</td>\n",
       "    </tr>\n",
       "    <tr>\n",
       "      <th>4</th>\n",
       "      <td>False</td>\n",
       "      <td>False</td>\n",
       "      <td>False</td>\n",
       "      <td>False</td>\n",
       "      <td>False</td>\n",
       "      <td>False</td>\n",
       "      <td>False</td>\n",
       "    </tr>\n",
       "    <tr>\n",
       "      <th>5</th>\n",
       "      <td>False</td>\n",
       "      <td>False</td>\n",
       "      <td>False</td>\n",
       "      <td>False</td>\n",
       "      <td>False</td>\n",
       "      <td>False</td>\n",
       "      <td>False</td>\n",
       "    </tr>\n",
       "    <tr>\n",
       "      <th>6</th>\n",
       "      <td>False</td>\n",
       "      <td>False</td>\n",
       "      <td>False</td>\n",
       "      <td>False</td>\n",
       "      <td>False</td>\n",
       "      <td>False</td>\n",
       "      <td>False</td>\n",
       "    </tr>\n",
       "    <tr>\n",
       "      <th>7</th>\n",
       "      <td>False</td>\n",
       "      <td>False</td>\n",
       "      <td>False</td>\n",
       "      <td>False</td>\n",
       "      <td>False</td>\n",
       "      <td>False</td>\n",
       "      <td>False</td>\n",
       "    </tr>\n",
       "    <tr>\n",
       "      <th>8</th>\n",
       "      <td>False</td>\n",
       "      <td>False</td>\n",
       "      <td>False</td>\n",
       "      <td>False</td>\n",
       "      <td>False</td>\n",
       "      <td>False</td>\n",
       "      <td>False</td>\n",
       "    </tr>\n",
       "    <tr>\n",
       "      <th>9</th>\n",
       "      <td>False</td>\n",
       "      <td>False</td>\n",
       "      <td>False</td>\n",
       "      <td>False</td>\n",
       "      <td>False</td>\n",
       "      <td>False</td>\n",
       "      <td>False</td>\n",
       "    </tr>\n",
       "    <tr>\n",
       "      <th>10</th>\n",
       "      <td>False</td>\n",
       "      <td>False</td>\n",
       "      <td>False</td>\n",
       "      <td>False</td>\n",
       "      <td>False</td>\n",
       "      <td>False</td>\n",
       "      <td>False</td>\n",
       "    </tr>\n",
       "    <tr>\n",
       "      <th>11</th>\n",
       "      <td>False</td>\n",
       "      <td>False</td>\n",
       "      <td>False</td>\n",
       "      <td>False</td>\n",
       "      <td>False</td>\n",
       "      <td>False</td>\n",
       "      <td>False</td>\n",
       "    </tr>\n",
       "    <tr>\n",
       "      <th>12</th>\n",
       "      <td>False</td>\n",
       "      <td>False</td>\n",
       "      <td>False</td>\n",
       "      <td>False</td>\n",
       "      <td>False</td>\n",
       "      <td>False</td>\n",
       "      <td>False</td>\n",
       "    </tr>\n",
       "    <tr>\n",
       "      <th>13</th>\n",
       "      <td>False</td>\n",
       "      <td>False</td>\n",
       "      <td>False</td>\n",
       "      <td>False</td>\n",
       "      <td>False</td>\n",
       "      <td>False</td>\n",
       "      <td>False</td>\n",
       "    </tr>\n",
       "    <tr>\n",
       "      <th>14</th>\n",
       "      <td>False</td>\n",
       "      <td>False</td>\n",
       "      <td>False</td>\n",
       "      <td>False</td>\n",
       "      <td>False</td>\n",
       "      <td>False</td>\n",
       "      <td>False</td>\n",
       "    </tr>\n",
       "    <tr>\n",
       "      <th>15</th>\n",
       "      <td>False</td>\n",
       "      <td>False</td>\n",
       "      <td>False</td>\n",
       "      <td>False</td>\n",
       "      <td>False</td>\n",
       "      <td>False</td>\n",
       "      <td>False</td>\n",
       "    </tr>\n",
       "    <tr>\n",
       "      <th>16</th>\n",
       "      <td>False</td>\n",
       "      <td>False</td>\n",
       "      <td>False</td>\n",
       "      <td>False</td>\n",
       "      <td>False</td>\n",
       "      <td>False</td>\n",
       "      <td>False</td>\n",
       "    </tr>\n",
       "    <tr>\n",
       "      <th>17</th>\n",
       "      <td>False</td>\n",
       "      <td>False</td>\n",
       "      <td>False</td>\n",
       "      <td>False</td>\n",
       "      <td>False</td>\n",
       "      <td>False</td>\n",
       "      <td>False</td>\n",
       "    </tr>\n",
       "    <tr>\n",
       "      <th>18</th>\n",
       "      <td>False</td>\n",
       "      <td>False</td>\n",
       "      <td>False</td>\n",
       "      <td>False</td>\n",
       "      <td>False</td>\n",
       "      <td>False</td>\n",
       "      <td>False</td>\n",
       "    </tr>\n",
       "    <tr>\n",
       "      <th>19</th>\n",
       "      <td>False</td>\n",
       "      <td>False</td>\n",
       "      <td>False</td>\n",
       "      <td>False</td>\n",
       "      <td>False</td>\n",
       "      <td>False</td>\n",
       "      <td>False</td>\n",
       "    </tr>\n",
       "    <tr>\n",
       "      <th>20</th>\n",
       "      <td>False</td>\n",
       "      <td>False</td>\n",
       "      <td>False</td>\n",
       "      <td>False</td>\n",
       "      <td>False</td>\n",
       "      <td>False</td>\n",
       "      <td>False</td>\n",
       "    </tr>\n",
       "    <tr>\n",
       "      <th>21</th>\n",
       "      <td>False</td>\n",
       "      <td>False</td>\n",
       "      <td>False</td>\n",
       "      <td>False</td>\n",
       "      <td>False</td>\n",
       "      <td>False</td>\n",
       "      <td>False</td>\n",
       "    </tr>\n",
       "    <tr>\n",
       "      <th>22</th>\n",
       "      <td>False</td>\n",
       "      <td>False</td>\n",
       "      <td>False</td>\n",
       "      <td>False</td>\n",
       "      <td>False</td>\n",
       "      <td>False</td>\n",
       "      <td>False</td>\n",
       "    </tr>\n",
       "    <tr>\n",
       "      <th>23</th>\n",
       "      <td>False</td>\n",
       "      <td>False</td>\n",
       "      <td>False</td>\n",
       "      <td>False</td>\n",
       "      <td>False</td>\n",
       "      <td>False</td>\n",
       "      <td>False</td>\n",
       "    </tr>\n",
       "    <tr>\n",
       "      <th>24</th>\n",
       "      <td>False</td>\n",
       "      <td>False</td>\n",
       "      <td>False</td>\n",
       "      <td>False</td>\n",
       "      <td>False</td>\n",
       "      <td>False</td>\n",
       "      <td>False</td>\n",
       "    </tr>\n",
       "  </tbody>\n",
       "</table>\n",
       "</div>"
      ],
      "text/plain": [
       "    Participant   Abil     IQ   Home     TV  Rank_Abil  Rank_Home\n",
       "0         False  False  False  False  False      False      False\n",
       "1         False  False  False  False  False      False      False\n",
       "2         False  False  False  False  False      False      False\n",
       "3         False  False  False  False  False      False      False\n",
       "4         False  False  False  False  False      False      False\n",
       "5         False  False  False  False  False      False      False\n",
       "6         False  False  False  False  False      False      False\n",
       "7         False  False  False  False  False      False      False\n",
       "8         False  False  False  False  False      False      False\n",
       "9         False  False  False  False  False      False      False\n",
       "10        False  False  False  False  False      False      False\n",
       "11        False  False  False  False  False      False      False\n",
       "12        False  False  False  False  False      False      False\n",
       "13        False  False  False  False  False      False      False\n",
       "14        False  False  False  False  False      False      False\n",
       "15        False  False  False  False  False      False      False\n",
       "16        False  False  False  False  False      False      False\n",
       "17        False  False  False  False  False      False      False\n",
       "18        False  False  False  False  False      False      False\n",
       "19        False  False  False  False  False      False      False\n",
       "20        False  False  False  False  False      False      False\n",
       "21        False  False  False  False  False      False      False\n",
       "22        False  False  False  False  False      False      False\n",
       "23        False  False  False  False  False      False      False\n",
       "24        False  False  False  False  False      False      False"
      ]
     },
     "execution_count": 30,
     "metadata": {},
     "output_type": "execute_result"
    }
   ],
   "source": [
    "# Check for missing values\n",
    "df_mh.isnull()\n",
    "\n",
    "# Check whether there is a data point for each participant on both variables"
   ]
  },
  {
   "cell_type": "markdown",
   "metadata": {},
   "source": [
    "There is a data point for each Participant on both variables."
   ]
  },
  {
   "cell_type": "markdown",
   "metadata": {},
   "source": [
    "### Normal Distribution"
   ]
  },
  {
   "cell_type": "code",
   "execution_count": 73,
   "metadata": {},
   "outputs": [
    {
     "data": {
      "image/png": "[encoded data removed]",
      "text/plain": [
       "<Figure size 640x480 with 2 Axes>"
      ]
     },
     "metadata": {},
     "output_type": "display_data"
    }
   ],
   "source": [
    "#Plot to see the distribution first\n",
    "\n",
    "df_mh[['Abil', 'IQ']].hist()\n",
    "plt.show()"
   ]
  },
  {
   "cell_type": "code",
   "execution_count": 5,
   "metadata": {
    "id": "3ALe0fjr2K5h"
   },
   "outputs": [
    {
     "name": "stdout",
     "output_type": "stream",
     "text": [
      "0.9487951397895813 0.2354906052350998\n",
      "0.9636039137840271 0.49081143736839294\n"
     ]
    }
   ],
   "source": [
    "# Q1c (code):\n",
    "# Check data distribution\n",
    "\n",
    "score_shapiro_abil, p_val_shapiro_abil = stats.shapiro(df_mh['Abil'])\n",
    "score_shapiro_IQ, p_val_shapiro_IQ = stats.shapiro(df_mh['IQ'])\n",
    "print(score_shapiro_abil, p_val_shapiro_abil)\n",
    "print(score_shapiro_IQ, p_val_shapiro_IQ)"
   ]
  },
  {
   "cell_type": "markdown",
   "metadata": {},
   "source": [
    "### Visualizing the Correlation"
   ]
  },
  {
   "cell_type": "code",
   "execution_count": 7,
   "metadata": {
    "id": "xaQ300fY2MPe"
   },
   "outputs": [
    {
     "data": {
      "image/png": "[encoded data removed]",
      "text/plain": [
       "<Figure size 640x480 with 1 Axes>"
      ]
     },
     "metadata": {},
     "output_type": "display_data"
    }
   ],
   "source": [
    "# Q1d (code):\n",
    "# Scatter plot\n",
    "\n",
    "plt.scatter(df_mh['Abil'], df_mh['IQ'])\n",
    "plt.title('Reading Ability and IQ')\n",
    "plt.xlabel('Reading Ability')\n",
    "plt.ylabel('IQ')\n",
    "plt.show()"
   ]
  },
  {
   "cell_type": "code",
   "execution_count": 8,
   "metadata": {
    "id": "Zpkwqc382N06"
   },
   "outputs": [
    {
     "data": {
      "image/png": "[encoded data removed]",
      "text/plain": [
       "<Figure size 640x480 with 1 Axes>"
      ]
     },
     "metadata": {},
     "output_type": "display_data"
    }
   ],
   "source": [
    "# Q1e (code):\n",
    "# Correlation line\n",
    "sns.regplot(x=\"Abil\", y=\"IQ\", data=df_mh)\n",
    "plt.title(\"Scatterplot with Correlation Line\")\n",
    "plt.xlabel(\"Reading Ability\")\n",
    "plt.ylabel(\"IQ\")\n",
    "plt.show()"
   ]
  },
  {
   "cell_type": "markdown",
   "metadata": {
    "id": "tKtW2diqZq1S"
   },
   "source": [
    "**Question 2**:\n",
    "\n",
    "a. Which correlation coefficient test can we use, Pearson or Spearman? Briefly explian why based on the results of Question 1.\n",
    "\n",
    "b. Conduct a correlation coefficient test.\n",
    "\n",
    "c. Interpret the result (direction and strength of the association between the two varibles)"
   ]
  },
  {
   "cell_type": "markdown",
   "metadata": {
    "id": "t5GRVxHwaKIS"
   },
   "source": [
    "Q2a:"
   ]
  },
  {
   "cell_type": "markdown",
   "metadata": {},
   "source": [
    "Based on the results of Question 1 it is my opinion, that we should use Pearson's Correlation Coefficient, our variables are approximately  normally distributed and we can see a linear relationship between them."
   ]
  },
  {
   "cell_type": "markdown",
   "metadata": {},
   "source": [
    "Q2b (code):"
   ]
  },
  {
   "cell_type": "code",
   "execution_count": 99,
   "metadata": {
    "id": "LTSp6xMFaKgf"
   },
   "outputs": [
    {
     "data": {
      "text/html": [
       "<div>\n",
       "<style scoped>\n",
       "    .dataframe tbody tr th:only-of-type {\n",
       "        vertical-align: middle;\n",
       "    }\n",
       "\n",
       "    .dataframe tbody tr th {\n",
       "        vertical-align: top;\n",
       "    }\n",
       "\n",
       "    .dataframe thead th {\n",
       "        text-align: right;\n",
       "    }\n",
       "</style>\n",
       "<table border=\"1\" class=\"dataframe\">\n",
       "  <thead>\n",
       "    <tr style=\"text-align: right;\">\n",
       "      <th></th>\n",
       "      <th>n</th>\n",
       "      <th>r</th>\n",
       "      <th>CI95%</th>\n",
       "      <th>p-val</th>\n",
       "      <th>BF10</th>\n",
       "      <th>power</th>\n",
       "    </tr>\n",
       "  </thead>\n",
       "  <tbody>\n",
       "    <tr>\n",
       "      <th>pearson</th>\n",
       "      <td>25</td>\n",
       "      <td>0.45117</td>\n",
       "      <td>[0.07, 0.72]</td>\n",
       "      <td>0.023593</td>\n",
       "      <td>2.804</td>\n",
       "      <td>0.640299</td>\n",
       "    </tr>\n",
       "  </tbody>\n",
       "</table>\n",
       "</div>"
      ],
      "text/plain": [
       "          n        r         CI95%     p-val   BF10     power\n",
       "pearson  25  0.45117  [0.07, 0.72]  0.023593  2.804  0.640299"
      ]
     },
     "execution_count": 99,
     "metadata": {},
     "output_type": "execute_result"
    }
   ],
   "source": [
    "# Calculate Pearson correlation coefficient\n",
    "pearson_corr = pg.corr(df_mh['Abil'], df_mh['IQ'], method='pearson')\n",
    "pearson_corr"
   ]
  },
  {
   "cell_type": "markdown",
   "metadata": {},
   "source": [
    "Q2c (answer with words):"
   ]
  },
  {
   "cell_type": "markdown",
   "metadata": {
    "id": "m_3aCSG7ylFJ"
   },
   "source": [
    "The (r) correlation coefficient measures strenght and direction of the linear relationship between the variables and in our case it is 0.45117, indicating moderate positive correlation. The p-value is 0.023593, less the 0.05 and therefore we reject the null hypothesis, as there is a statistically significant correlation between the two variables.The statistical power of the test, which measures the probability of correctly rejecting the null hypothesis when it is false, is approximately 0.640299, indicating a moderate level of power."
   ]
  },
  {
   "cell_type": "markdown",
   "metadata": {
    "id": "mogdaz8P27oU"
   },
   "source": [
    "## Task 2. Chi-square Test\n",
    "We will continue to use the data example from Task 1.\n",
    "\n",
    "We want to explore whether there are significant differences in the amount of time spent reading at home per week (Home) among people with different reading abilities (Reading Ability). Therefore, we will divide the reading ability of all participants into two groups. The first group is those with low reading ability (Reading Ability at or below the rounded average), and the second group is those with high reading ability (Reading Ability above the rounded average). We will store this grouping in a new column named \"Rank_Abil\".\n",
    "\n",
    "\n",
    "Similarly, the reading time is divided into two different scenarios: the first scenario is infrequent reading (Home at or below the rounded average), and the other is frequent reading (Reading Ability above the rounded average). We will store this grouping in a new column named \"Rank_Home\".\n",
    "\n",
    "\n",
    "Then, construct a Contingency Matrix and perform a Chi-square test.\n",
    "\n",
    "**Question 3**:\n",
    "\n",
    "a. Please state the null hypothesis (H0) and alternative hypothesis (H1) for this Chi-square test.\n",
    "\n",
    "b. Based on the task description, add new columns “Rank_Abil” and \"Rank_Home\" to the dataframe df_mh.\n",
    "\n",
    "c. Construct a Contingency Matrix.\n",
    "\n",
    "d. Perform a Chi-square test.\n",
    "\n",
    "e. Interpret the results of the Chi-square test (answer in text)."
   ]
  },
  {
   "cell_type": "markdown",
   "metadata": {},
   "source": [
    "### Stating the Hypothesis "
   ]
  },
  {
   "cell_type": "markdown",
   "metadata": {
    "id": "tIKHfEwG-Pte"
   },
   "source": [
    " Q3a:\n",
    " \n",
    " H0: There is no association between time spent reading at home and the reading ability of a person.\n",
    " \n",
    " H1：The time spent reading at home influences the reading ability of a person."
   ]
  },
  {
   "cell_type": "code",
   "execution_count": 125,
   "metadata": {
    "id": "nlO-hmq2-V2Z"
   },
   "outputs": [],
   "source": [
    "# Import necessary libraries\n",
    "import pandas as pd  ##used for data wrangling\n",
    "from scipy.stats import chi2_contingency ##used for performin a chi-square test"
   ]
  },
  {
   "cell_type": "markdown",
   "metadata": {},
   "source": [
    "Q3b:\n",
    "\n",
    "Adding new columns"
   ]
  },
  {
   "cell_type": "code",
   "execution_count": 101,
   "metadata": {},
   "outputs": [
    {
     "data": {
      "text/plain": [
       "55"
      ]
     },
     "execution_count": 101,
     "metadata": {},
     "output_type": "execute_result"
    }
   ],
   "source": [
    "# First we need to find the rounded average of 'Abil' (Reading Ability)\n",
    "r_avg_abil = round(df_mh['Abil'].mean())\n",
    "r_avg_abil"
   ]
  },
  {
   "cell_type": "code",
   "execution_count": 102,
   "metadata": {},
   "outputs": [],
   "source": [
    "#Create a new column 'Rank_Abil' based on the average we found\n",
    "df_mh['Rank_Abil'] = df_mh['Abil'].apply(lambda x:'Low' if x <= r_avg_abil else 'High')"
   ]
  },
  {
   "cell_type": "code",
   "execution_count": 103,
   "metadata": {},
   "outputs": [],
   "source": [
    "# Find the rounded average of 'Home'\n",
    "r_avg_home = round(df_mh['Home'].mean())\n",
    "\n",
    "#Create a new column 'Rank_Home' based on the average we found\n",
    "df_mh['Rank_Home'] = df_mh['Home'].apply(lambda x: 'Non-frequent' if x <= r_avg_home else 'Frequent')"
   ]
  },
  {
   "cell_type": "code",
   "execution_count": 104,
   "metadata": {},
   "outputs": [
    {
     "data": {
      "text/html": [
       "<div>\n",
       "<style scoped>\n",
       "    .dataframe tbody tr th:only-of-type {\n",
       "        vertical-align: middle;\n",
       "    }\n",
       "\n",
       "    .dataframe tbody tr th {\n",
       "        vertical-align: top;\n",
       "    }\n",
       "\n",
       "    .dataframe thead th {\n",
       "        text-align: right;\n",
       "    }\n",
       "</style>\n",
       "<table border=\"1\" class=\"dataframe\">\n",
       "  <thead>\n",
       "    <tr style=\"text-align: right;\">\n",
       "      <th></th>\n",
       "      <th>Participant</th>\n",
       "      <th>Abil</th>\n",
       "      <th>IQ</th>\n",
       "      <th>Home</th>\n",
       "      <th>TV</th>\n",
       "      <th>Rank_Abil</th>\n",
       "      <th>Rank_Home</th>\n",
       "    </tr>\n",
       "  </thead>\n",
       "  <tbody>\n",
       "    <tr>\n",
       "      <th>0</th>\n",
       "      <td>1</td>\n",
       "      <td>61</td>\n",
       "      <td>107</td>\n",
       "      <td>144</td>\n",
       "      <td>487</td>\n",
       "      <td>High</td>\n",
       "      <td>Frequent</td>\n",
       "    </tr>\n",
       "    <tr>\n",
       "      <th>1</th>\n",
       "      <td>2</td>\n",
       "      <td>56</td>\n",
       "      <td>109</td>\n",
       "      <td>123</td>\n",
       "      <td>608</td>\n",
       "      <td>High</td>\n",
       "      <td>Non-frequent</td>\n",
       "    </tr>\n",
       "    <tr>\n",
       "      <th>2</th>\n",
       "      <td>3</td>\n",
       "      <td>45</td>\n",
       "      <td>81</td>\n",
       "      <td>108</td>\n",
       "      <td>640</td>\n",
       "      <td>Low</td>\n",
       "      <td>Non-frequent</td>\n",
       "    </tr>\n",
       "    <tr>\n",
       "      <th>3</th>\n",
       "      <td>4</td>\n",
       "      <td>66</td>\n",
       "      <td>100</td>\n",
       "      <td>155</td>\n",
       "      <td>493</td>\n",
       "      <td>High</td>\n",
       "      <td>Frequent</td>\n",
       "    </tr>\n",
       "    <tr>\n",
       "      <th>4</th>\n",
       "      <td>5</td>\n",
       "      <td>49</td>\n",
       "      <td>92</td>\n",
       "      <td>103</td>\n",
       "      <td>636</td>\n",
       "      <td>Low</td>\n",
       "      <td>Non-frequent</td>\n",
       "    </tr>\n",
       "  </tbody>\n",
       "</table>\n",
       "</div>"
      ],
      "text/plain": [
       "   Participant  Abil   IQ  Home   TV Rank_Abil     Rank_Home\n",
       "0            1    61  107   144  487      High      Frequent\n",
       "1            2    56  109   123  608      High  Non-frequent\n",
       "2            3    45   81   108  640       Low  Non-frequent\n",
       "3            4    66  100   155  493      High      Frequent\n",
       "4            5    49   92   103  636       Low  Non-frequent"
      ]
     },
     "execution_count": 104,
     "metadata": {},
     "output_type": "execute_result"
    }
   ],
   "source": [
    "df_mh.head(5)"
   ]
  },
  {
   "cell_type": "markdown",
   "metadata": {
    "id": "jjtp4cm4-Y36"
   },
   "source": [
    " Q3c:\n",
    "\n",
    " Construct Contingency Matrix\n"
   ]
  },
  {
   "cell_type": "code",
   "execution_count": 105,
   "metadata": {},
   "outputs": [
    {
     "data": {
      "text/html": [
       "<div>\n",
       "<style scoped>\n",
       "    .dataframe tbody tr th:only-of-type {\n",
       "        vertical-align: middle;\n",
       "    }\n",
       "\n",
       "    .dataframe tbody tr th {\n",
       "        vertical-align: top;\n",
       "    }\n",
       "\n",
       "    .dataframe thead th {\n",
       "        text-align: right;\n",
       "    }\n",
       "</style>\n",
       "<table border=\"1\" class=\"dataframe\">\n",
       "  <thead>\n",
       "    <tr style=\"text-align: right;\">\n",
       "      <th>Rank_Home</th>\n",
       "      <th>Frequent</th>\n",
       "      <th>Non-frequent</th>\n",
       "    </tr>\n",
       "    <tr>\n",
       "      <th>Rank_Abil</th>\n",
       "      <th></th>\n",
       "      <th></th>\n",
       "    </tr>\n",
       "  </thead>\n",
       "  <tbody>\n",
       "    <tr>\n",
       "      <th>High</th>\n",
       "      <td>8</td>\n",
       "      <td>2</td>\n",
       "    </tr>\n",
       "    <tr>\n",
       "      <th>Low</th>\n",
       "      <td>3</td>\n",
       "      <td>12</td>\n",
       "    </tr>\n",
       "  </tbody>\n",
       "</table>\n",
       "</div>"
      ],
      "text/plain": [
       "Rank_Home  Frequent  Non-frequent\n",
       "Rank_Abil                        \n",
       "High              8             2\n",
       "Low               3            12"
      ]
     },
     "execution_count": 105,
     "metadata": {},
     "output_type": "execute_result"
    }
   ],
   "source": [
    "# to apply statistics we should create a subdataframe by grouping \n",
    "# code for contigency matrix\n",
    "cont_matrix = pd.crosstab(df_mh['Rank_Abil'], df_mh['Rank_Home'])\n",
    "cont_matrix"
   ]
  },
  {
   "cell_type": "code",
   "execution_count": 106,
   "metadata": {
    "id": "gyDS8hq2-bmx"
   },
   "outputs": [
    {
     "name": "stdout",
     "output_type": "stream",
     "text": [
      "\n",
      "Chi-square Test Results:\n",
      "Chi-square statistic: 6.500270562770561\n",
      "p-value: 0.010785807794066234\n",
      "Degrees of freedom: 1\n",
      "Expected frequencies:\n",
      "[[4.4 5.6]\n",
      " [6.6 8.4]]\n"
     ]
    }
   ],
   "source": [
    "# Q3d (code):\n",
    "# Perform the Chi-square test\n",
    "chi2_stat, p_val, dof, expected = chi2_contingency(cont_matrix)\n",
    "print()\n",
    "#Print the results\n",
    "print(\"Chi-square Test Results:\")\n",
    "print(\"Chi-square statistic:\", chi2_stat)\n",
    "print(\"p-value:\", p_val)\n",
    "print(\"Degrees of freedom:\", dof)\n",
    "print(\"Expected frequencies:\")\n",
    "print(expected)"
   ]
  },
  {
   "cell_type": "markdown",
   "metadata": {
    "id": "fj0gW0pS-dN5"
   },
   "source": [
    " Q3e:\n",
    "\n",
    "The Chi-square test shows a statistically significant result. The p-value is less than a commonly significant level set at 0.05, so we reject the null hypothesis (H0), and we can observe that there is a statistically significant assosiation between these two variables (reading ability and amount of time spent reading at home). Therefore, there is evident that the two variables are dependent of each other. \n"
   ]
  },
  {
   "cell_type": "markdown",
   "metadata": {
    "id": "FgYRxqqpaUIk"
   },
   "source": [
    "## Task 3. Two-sample t-test\n",
    "As we discussed on Week 3, Two-sample designs are very useful when we want to know whether there is a difference between groups on a particular variable.\n",
    "\n",
    "In this assignment, you will be guided to replicate the Experiment 4 (p. 887-888) from the paper below, focusing on understanding the data through descriptive statistics, visualizing distributions, testing assumptions (normality and variance homogeneity), and finally performing the independent t-test.\n",
    "\n",
    "Schroeder, J. and Epley, N. (2015). The sound of intellect: Speech reveals a thoughtful mind, increasing a job candidate's appeal. Psychological Science, 26, 277--891.\n",
    "\n",
    "\n",
    "As we explained during Week 3 lecture, there are different types of two-sample designs depending on whether or not the two groups are independent (e.g., different participants in different conditions) or not (e.g., same participants in different conditions). In this course we focus on independent samples, which typically means that the observations in the two groups are unrelated - usually meaning different people. But in real practice you will need to go through similar procedures to determine which is the proper statistical test to use.\n",
    "\n",
    "\n",
    "\n",
    "\n",
    "### Background of data: Speech as indicator of intellect\n",
    "To recap on Experiment 4, 39 professional recruiters from Fortune 500 companies evaluated job pitches of M.B.A. candidates (Masters in Business Administration) from the University of Chicago Booth School of Business. The methods and results appear on pages 887--889 of the article if you want to look at them specifically for more details."
   ]
  },
  {
   "cell_type": "markdown",
   "metadata": {
    "id": "vIc57Glgn5Bb"
   },
   "source": [
    "###Step 1: Analyze the demographics of evaluators from the provided dataset\n",
    "\n",
    "**Instructions:**\n",
    "\n",
    "1. Load the necessary libraries (pandas, scipy, numpy, matplotlib.pyplot, seaborn) and explain why you need them (\"#used for ...\").\n",
    "\n",
    "2. Read the evaluators.csv file into a DataFrame.\n",
    "\n",
    "3. Calculate the mean and standard deviation of the age of the evaluators, handling missing values appropriately.\n",
    "\n",
    "4. Count how many male and female evaluators were in the study.\n",
    "\n",
    "**Question 4:**\n",
    "\n",
    "a. What was the mean age of the evaluators?\n",
    "What was the standard deviation of the age of the evaluators?\n",
    "\n",
    "b. How many participants were female and how many participants were male?\n"
   ]
  },
  {
   "cell_type": "code",
   "execution_count": 127,
   "metadata": {
    "id": "RgnTye-yojyH"
   },
   "outputs": [
    {
     "data": {
      "text/html": [
       "<div>\n",
       "<style scoped>\n",
       "    .dataframe tbody tr th:only-of-type {\n",
       "        vertical-align: middle;\n",
       "    }\n",
       "\n",
       "    .dataframe tbody tr th {\n",
       "        vertical-align: top;\n",
       "    }\n",
       "\n",
       "    .dataframe thead th {\n",
       "        text-align: right;\n",
       "    }\n",
       "</style>\n",
       "<table border=\"1\" class=\"dataframe\">\n",
       "  <thead>\n",
       "    <tr style=\"text-align: right;\">\n",
       "      <th></th>\n",
       "      <th>eval_id</th>\n",
       "      <th>condition</th>\n",
       "      <th>age</th>\n",
       "      <th>sex</th>\n",
       "    </tr>\n",
       "  </thead>\n",
       "  <tbody>\n",
       "    <tr>\n",
       "      <th>0</th>\n",
       "      <td>1</td>\n",
       "      <td>listened</td>\n",
       "      <td>29.0</td>\n",
       "      <td>2.0</td>\n",
       "    </tr>\n",
       "    <tr>\n",
       "      <th>1</th>\n",
       "      <td>2</td>\n",
       "      <td>listened</td>\n",
       "      <td>27.0</td>\n",
       "      <td>2.0</td>\n",
       "    </tr>\n",
       "    <tr>\n",
       "      <th>2</th>\n",
       "      <td>3</td>\n",
       "      <td>listened</td>\n",
       "      <td>27.0</td>\n",
       "      <td>2.0</td>\n",
       "    </tr>\n",
       "    <tr>\n",
       "      <th>3</th>\n",
       "      <td>4</td>\n",
       "      <td>read</td>\n",
       "      <td>40.0</td>\n",
       "      <td>2.0</td>\n",
       "    </tr>\n",
       "    <tr>\n",
       "      <th>4</th>\n",
       "      <td>5</td>\n",
       "      <td>read</td>\n",
       "      <td>32.0</td>\n",
       "      <td>2.0</td>\n",
       "    </tr>\n",
       "    <tr>\n",
       "      <th>5</th>\n",
       "      <td>6</td>\n",
       "      <td>read</td>\n",
       "      <td>24.0</td>\n",
       "      <td>2.0</td>\n",
       "    </tr>\n",
       "    <tr>\n",
       "      <th>6</th>\n",
       "      <td>7</td>\n",
       "      <td>listened</td>\n",
       "      <td>29.0</td>\n",
       "      <td>2.0</td>\n",
       "    </tr>\n",
       "    <tr>\n",
       "      <th>7</th>\n",
       "      <td>8</td>\n",
       "      <td>read</td>\n",
       "      <td>23.0</td>\n",
       "      <td>2.0</td>\n",
       "    </tr>\n",
       "    <tr>\n",
       "      <th>8</th>\n",
       "      <td>9</td>\n",
       "      <td>listened</td>\n",
       "      <td>28.0</td>\n",
       "      <td>2.0</td>\n",
       "    </tr>\n",
       "    <tr>\n",
       "      <th>9</th>\n",
       "      <td>10</td>\n",
       "      <td>read</td>\n",
       "      <td>34.0</td>\n",
       "      <td>2.0</td>\n",
       "    </tr>\n",
       "  </tbody>\n",
       "</table>\n",
       "</div>"
      ],
      "text/plain": [
       "   eval_id condition   age  sex\n",
       "0        1  listened  29.0  2.0\n",
       "1        2  listened  27.0  2.0\n",
       "2        3  listened  27.0  2.0\n",
       "3        4      read  40.0  2.0\n",
       "4        5      read  32.0  2.0\n",
       "5        6      read  24.0  2.0\n",
       "6        7  listened  29.0  2.0\n",
       "7        8      read  23.0  2.0\n",
       "8        9  listened  28.0  2.0\n",
       "9       10      read  34.0  2.0"
      ]
     },
     "execution_count": 127,
     "metadata": {},
     "output_type": "execute_result"
    }
   ],
   "source": [
    "\n",
    "import pandas as pd # used for data wrangling \n",
    "from scipy import stats # used for statistics\n",
    "import numpy as np # used for mathematical and statistical functions\n",
    "import matplotlib.pyplot as plt ## used for plotting and visualizations\n",
    "import seaborn as sns # used for visualizations\n",
    "\n",
    "# Load the data\n",
    "df_evaluators = pd.read_csv('data for A1/evaluators.csv')\n",
    "df_evaluators.head(10)\n"
   ]
  },
  {
   "cell_type": "code",
   "execution_count": 108,
   "metadata": {},
   "outputs": [
    {
     "data": {
      "text/plain": [
       "eval_id      False\n",
       "condition    False\n",
       "age           True\n",
       "sex           True\n",
       "dtype: bool"
      ]
     },
     "execution_count": 108,
     "metadata": {},
     "output_type": "execute_result"
    }
   ],
   "source": [
    "#Fist we need to check our data for any missing value\n",
    "df_evaluators.isnull().any()"
   ]
  },
  {
   "cell_type": "code",
   "execution_count": 109,
   "metadata": {},
   "outputs": [
    {
     "data": {
      "text/plain": [
       "4"
      ]
     },
     "execution_count": 109,
     "metadata": {},
     "output_type": "execute_result"
    }
   ],
   "source": [
    "df_evaluators.isnull().any().count()"
   ]
  },
  {
   "cell_type": "code",
   "execution_count": 50,
   "metadata": {},
   "outputs": [
    {
     "data": {
      "text/plain": [
       "30.852941176470587"
      ]
     },
     "execution_count": 50,
     "metadata": {},
     "output_type": "execute_result"
    }
   ],
   "source": [
    "mean_age_with_null = df_evaluators['age'].mean()\n",
    "mean_age_with_null"
   ]
  },
  {
   "cell_type": "markdown",
   "metadata": {},
   "source": [
    " Q4a:"
   ]
  },
  {
   "cell_type": "code",
   "execution_count": 110,
   "metadata": {
    "id": "eDw0XnX3BRhe"
   },
   "outputs": [
    {
     "name": "stdout",
     "output_type": "stream",
     "text": [
      "Mean age of evaluaters:\n",
      "30.852941176470587\n",
      "Standard Deviation for age:\n",
      "5.813470532176367\n"
     ]
    }
   ],
   "source": [
    "# Calculate mean and standard deviation for age\n",
    "# We know we have 2 null values and because our dataset is not that big it maybe changed the mean and standard diviation\n",
    "# So I will calculate the mean() and .std() with the nulls and then I will fill them with the mean and calculate again\n",
    "\n",
    "# Calculate the mean age of evaluators, including missing values\n",
    "mean_age_with_null = df_evaluators['age'].mean()\n",
    "\n",
    "# Fill missing values in the 'Age' column with the mean age\n",
    "df_evaluators['age'] = df_evaluators['age'].fillna(mean_age_with_null)\n",
    "\n",
    "mean_age = df_evaluators['age'].mean()\n",
    "std_age = df_evaluators['age'].std()\n",
    "\n",
    "print('Mean age of evaluaters:')\n",
    "print(mean_age)\n",
    "print('Standard Deviation for age:')\n",
    "print(std_age)"
   ]
  },
  {
   "cell_type": "code",
   "execution_count": 111,
   "metadata": {
    "id": "I0tU57R5ufRI"
   },
   "outputs": [
    {
     "name": "stdout",
     "output_type": "stream",
     "text": [
      "Number of male evaluators: 4\n",
      "Number of female evaluators: 30\n"
     ]
    }
   ],
   "source": [
    "# Q4b (code)\n",
    "# Count male and female evaluators\n",
    "# In the 'sex' column: 1 represents males and 2 represents females\n",
    "\n",
    "male_evaluators = (df_evaluators['sex'] == 1).sum()\n",
    "female_evaluators = (df_evaluators['sex'] == 2).sum()\n",
    "\n",
    "print('Number of male evaluators:', male_evaluators)\n",
    "print('Number of female evaluators:', female_evaluators)"
   ]
  },
  {
   "cell_type": "markdown",
   "metadata": {
    "id": "KK-MdZfdpDI3"
   },
   "source": [
    "###Step 2: Calculate overall intellect ratings from evaluators and prepare a combined dataset for analysis\n",
    "\n",
    "We are now going to calculate an overall intellect rating given by each evaluator. To break that down a bit, we are going to calculate how intellectual the evaluators (the raters) thought candidates were overall, depending on whether the evaluators read or listened to the candidates' resume pitches. This is calculated by averaging the ratings of competent, thoughtful and intelligent for each evaluator held within ratings.csv.\n",
    "\n",
    "Note: We are not looking at ratings to individual candidates; we are looking at overall ratings for each evaluator. This is a bit confusing but makes sense if you stop to think about it a little. You can think about it in terms of \"do raters rate differently depending on whether they read or listen to a resume pitch\".\n",
    "We will then combine the overall intellect rating with the overall impression ratings and overall hire ratings for each evaluator, all ready found in ratings.csv. In the end we will have a new new dataframe named \"ratings2\" - which has the below structure:\n",
    "\n",
    "**eval_id** shows the evaluator ID. Each evaluator has a different ID. So all the 1's are the same evaluator.\n",
    "\n",
    "**Category** shows the scale that they were rating on - intellect, hire, impression\n",
    "\n",
    "**Rating** shows the overall rating given by that evaluator on a given scale.\n",
    "\n",
    "**condition** shows whether that evaluator listened to (e.g., evaluators 1, 2 and 3), or read (e.g., evaluator 4) the resume.\n",
    "\n",
    "\n",
    "**Instructions:**\n",
    "\n",
    "1. Load the ratings.csv file.\n",
    "\n",
    "2. Filter and calculate the mean intellect rating for each evaluator.\n",
    "\n",
    "3. Combine this with overall impression and hire ratings to create a new DataFrame named \"rating2\".\n",
    "\n",
    "4. Merge this DataFrame with the evaluator demographics.\n",
    "\n",
    "**Question 5**:\n",
    "\n",
    "Print the head of \"rating2\".\n"
   ]
  },
  {
   "cell_type": "code",
   "execution_count": 129,
   "metadata": {
    "id": "l85NzSC-pj57"
   },
   "outputs": [
    {
     "data": {
      "text/html": [
       "<div>\n",
       "<style scoped>\n",
       "    .dataframe tbody tr th:only-of-type {\n",
       "        vertical-align: middle;\n",
       "    }\n",
       "\n",
       "    .dataframe tbody tr th {\n",
       "        vertical-align: top;\n",
       "    }\n",
       "\n",
       "    .dataframe thead th {\n",
       "        text-align: right;\n",
       "    }\n",
       "</style>\n",
       "<table border=\"1\" class=\"dataframe\">\n",
       "  <thead>\n",
       "    <tr style=\"text-align: right;\">\n",
       "      <th></th>\n",
       "      <th>eval_id</th>\n",
       "      <th>Category</th>\n",
       "      <th>Rating</th>\n",
       "    </tr>\n",
       "  </thead>\n",
       "  <tbody>\n",
       "    <tr>\n",
       "      <th>0</th>\n",
       "      <td>1</td>\n",
       "      <td>competent</td>\n",
       "      <td>6.0</td>\n",
       "    </tr>\n",
       "    <tr>\n",
       "      <th>1</th>\n",
       "      <td>1</td>\n",
       "      <td>thoughtful</td>\n",
       "      <td>6.0</td>\n",
       "    </tr>\n",
       "    <tr>\n",
       "      <th>2</th>\n",
       "      <td>1</td>\n",
       "      <td>intelligent</td>\n",
       "      <td>6.0</td>\n",
       "    </tr>\n",
       "    <tr>\n",
       "      <th>3</th>\n",
       "      <td>1</td>\n",
       "      <td>impression</td>\n",
       "      <td>7.0</td>\n",
       "    </tr>\n",
       "    <tr>\n",
       "      <th>4</th>\n",
       "      <td>1</td>\n",
       "      <td>hire</td>\n",
       "      <td>6.0</td>\n",
       "    </tr>\n",
       "  </tbody>\n",
       "</table>\n",
       "</div>"
      ],
      "text/plain": [
       "   eval_id     Category  Rating\n",
       "0        1    competent     6.0\n",
       "1        1   thoughtful     6.0\n",
       "2        1  intelligent     6.0\n",
       "3        1   impression     7.0\n",
       "4        1         hire     6.0"
      ]
     },
     "execution_count": 129,
     "metadata": {},
     "output_type": "execute_result"
    }
   ],
   "source": [
    "# Load ratings data\n",
    "df_ratings = pd.read_csv('data for A1/ratings.csv')\n",
    "df_ratings.head()"
   ]
  },
  {
   "cell_type": "code",
   "execution_count": 113,
   "metadata": {
    "id": "5dxtVUSMBZwf"
   },
   "outputs": [],
   "source": [
    "# Q5 (code):\n",
    "# Filter the ratings DataFrame to include only 'thoughtful', 'competent', and 'intelligent' categories\n",
    "categories = ['thoughtful', 'competent', 'intelligent']\n",
    "df_ratings_filtered = df_ratings[df_ratings['Category'].isin(categories)]\n",
    "\n",
    "# Calculate the mean intellect rating for each evaluator\n",
    "mean_rate = df_ratings_filtered.groupby('eval_id')['Rating'].mean()\n",
    "# Group by 'eval_id' and calculate mean, then reset the index to convert groupby object back to DataFrame\n",
    "intellect_rating = mean_rate.reset_index()"
   ]
  },
  {
   "cell_type": "code",
   "execution_count": 114,
   "metadata": {},
   "outputs": [
    {
     "data": {
      "text/html": [
       "<div>\n",
       "<style scoped>\n",
       "    .dataframe tbody tr th:only-of-type {\n",
       "        vertical-align: middle;\n",
       "    }\n",
       "\n",
       "    .dataframe tbody tr th {\n",
       "        vertical-align: top;\n",
       "    }\n",
       "\n",
       "    .dataframe thead th {\n",
       "        text-align: right;\n",
       "    }\n",
       "</style>\n",
       "<table border=\"1\" class=\"dataframe\">\n",
       "  <thead>\n",
       "    <tr style=\"text-align: right;\">\n",
       "      <th></th>\n",
       "      <th>eval_id</th>\n",
       "      <th>Rating</th>\n",
       "    </tr>\n",
       "  </thead>\n",
       "  <tbody>\n",
       "    <tr>\n",
       "      <th>0</th>\n",
       "      <td>1</td>\n",
       "      <td>6.000000</td>\n",
       "    </tr>\n",
       "    <tr>\n",
       "      <th>1</th>\n",
       "      <td>2</td>\n",
       "      <td>5.666667</td>\n",
       "    </tr>\n",
       "    <tr>\n",
       "      <th>2</th>\n",
       "      <td>3</td>\n",
       "      <td>6.000000</td>\n",
       "    </tr>\n",
       "    <tr>\n",
       "      <th>3</th>\n",
       "      <td>4</td>\n",
       "      <td>3.333333</td>\n",
       "    </tr>\n",
       "    <tr>\n",
       "      <th>4</th>\n",
       "      <td>5</td>\n",
       "      <td>1.000000</td>\n",
       "    </tr>\n",
       "  </tbody>\n",
       "</table>\n",
       "</div>"
      ],
      "text/plain": [
       "   eval_id    Rating\n",
       "0        1  6.000000\n",
       "1        2  5.666667\n",
       "2        3  6.000000\n",
       "3        4  3.333333\n",
       "4        5  1.000000"
      ]
     },
     "execution_count": 114,
     "metadata": {},
     "output_type": "execute_result"
    }
   ],
   "source": [
    "intellect_rating.head()"
   ]
  },
  {
   "cell_type": "code",
   "execution_count": 115,
   "metadata": {},
   "outputs": [],
   "source": [
    "# Add a 'Category' column with the value 'intellect' for these rows\n",
    "intellect_rating['Category'] = 'intellect'\n",
    "# Create a DataFrame for 'impression' and 'hire' ratings\n",
    "\n",
    "df_impression = df_ratings[df_ratings['Category'] == 'impression']\n",
    "\n",
    "df_hire = df_ratings[df_ratings['Category'] == 'hire']"
   ]
  },
  {
   "cell_type": "code",
   "execution_count": 116,
   "metadata": {},
   "outputs": [
    {
     "data": {
      "text/html": [
       "<div>\n",
       "<style scoped>\n",
       "    .dataframe tbody tr th:only-of-type {\n",
       "        vertical-align: middle;\n",
       "    }\n",
       "\n",
       "    .dataframe tbody tr th {\n",
       "        vertical-align: top;\n",
       "    }\n",
       "\n",
       "    .dataframe thead th {\n",
       "        text-align: right;\n",
       "    }\n",
       "</style>\n",
       "<table border=\"1\" class=\"dataframe\">\n",
       "  <thead>\n",
       "    <tr style=\"text-align: right;\">\n",
       "      <th></th>\n",
       "      <th>eval_id</th>\n",
       "      <th>condition</th>\n",
       "      <th>Category</th>\n",
       "      <th>Rating</th>\n",
       "    </tr>\n",
       "  </thead>\n",
       "  <tbody>\n",
       "    <tr>\n",
       "      <th>1</th>\n",
       "      <td>1</td>\n",
       "      <td>listened</td>\n",
       "      <td>hire</td>\n",
       "      <td>6.000000</td>\n",
       "    </tr>\n",
       "    <tr>\n",
       "      <th>0</th>\n",
       "      <td>1</td>\n",
       "      <td>listened</td>\n",
       "      <td>impression</td>\n",
       "      <td>7.000000</td>\n",
       "    </tr>\n",
       "    <tr>\n",
       "      <th>2</th>\n",
       "      <td>1</td>\n",
       "      <td>listened</td>\n",
       "      <td>intellect</td>\n",
       "      <td>6.000000</td>\n",
       "    </tr>\n",
       "    <tr>\n",
       "      <th>4</th>\n",
       "      <td>2</td>\n",
       "      <td>listened</td>\n",
       "      <td>hire</td>\n",
       "      <td>4.000000</td>\n",
       "    </tr>\n",
       "    <tr>\n",
       "      <th>3</th>\n",
       "      <td>2</td>\n",
       "      <td>listened</td>\n",
       "      <td>impression</td>\n",
       "      <td>4.666667</td>\n",
       "    </tr>\n",
       "  </tbody>\n",
       "</table>\n",
       "</div>"
      ],
      "text/plain": [
       "   eval_id condition    Category    Rating\n",
       "1        1  listened        hire  6.000000\n",
       "0        1  listened  impression  7.000000\n",
       "2        1  listened   intellect  6.000000\n",
       "4        2  listened        hire  4.000000\n",
       "3        2  listened  impression  4.666667"
      ]
     },
     "execution_count": 116,
     "metadata": {},
     "output_type": "execute_result"
    }
   ],
   "source": [
    "# Combine the DataFrames to create 'ratings2'\n",
    "ratings2 = pd.concat([df_impression, df_hire])\n",
    "# Concatenate the 'intellect_mean' DataFrame with the 'other_ratings' DataFrame\n",
    "ratings2 = pd.concat([ratings2, intellect_rating])\n",
    "\n",
    "# Join 'ratings2' with the 'df_evaluators' DataFrame to add the 'condition' column\n",
    "ratings2 = pd.merge(ratings2, df_evaluators[['eval_id', 'condition']], on='eval_id')\n",
    "\n",
    "# Select only the necessary columns as per the structure required\n",
    "\n",
    "ratings2 = ratings2[['eval_id', 'condition', 'Category', 'Rating']]\n",
    "# Arrange by 'eval_id' and 'Category'\n",
    "ratings2 = ratings2.sort_values(by=['eval_id', 'Category'])\n",
    "\n",
    "# Display the first few rows of the final 'ratings2' DataFrame to verify\n",
    "ratings2.head()"
   ]
  },
  {
   "cell_type": "markdown",
   "metadata": {
    "id": "fOmtKCzEpoOa"
   },
   "source": [
    "###Step 3: Perform descriptive and inferential statistical analyses, including testing assumptions and conducting independent t-tests.\n",
    "\n",
    "We are going to run the t-tests for Intellect, Hire and Impression; each time comparing evaluators overall ratings for the listened group versus overall ratings for the read group to see if there was a significant difference between the two conditions: i.e., did the evaluators who listened to pitches give a significant higher or lower rating than evaluators that read pitches?\n",
    "\n",
    "**Question 6**:\n",
    "\n",
    "a. In terms of hypotheses, how can we phrase the hypothesis?\n",
    "\n",
    "b. Which t-test should we choose, one-tail or two-tail? And explian why.\n",
    "\n",
    "c. What are the independent variable and the dependent variable here?\n",
    "\n"
   ]
  },
  {
   "cell_type": "markdown",
   "metadata": {
    "id": "duti45rG22eS"
   },
   "source": [
    "Q6a (answer in words):\n",
    "\n",
    "\n",
    "Null hypothesis:(HO)\n",
    "\n",
    "There is no significant difference in overall ratings on \"intellect\" and \"hire\" (or \"impression\") between evaluators who listened to pitches and evaluators who read pitches. (HO: μ_listen = μ_read)\n",
    "\n",
    "Alternative hypothesis:(H1)\n",
    "\n",
    "There is significant difference in overall ratings on \"intellect\" and \"hire\"between evaluators who listened to the pitches and evaluators who read the pitches. (H1(tow-tailed)): μ_listen ≠ μ_read) "
   ]
  },
  {
   "cell_type": "code",
   "execution_count": null,
   "metadata": {},
   "outputs": [],
   "source": [
    "# we could phrase the null hypothesis for these tests as there is no significant difference between overall ratings on the {insert trait} scale between evaluators who listened to resume pitches and evaluators who read the resume pitches (H0:μ1=μ2). Alternatively, we could state it as there will be a significant difference between overall ratings on the {insert trait} scale between evaluators who listened to resume pitches and evaluators who read the resume pitches (H1:μ1≠μ2)."
   ]
  },
  {
   "cell_type": "markdown",
   "metadata": {
    "id": "EkoM_0js3fyS"
   },
   "source": [
    " Q6b (answer in words):\n",
    " \n",
    " Which t-test should we choose, one-tail or two-tail? Explian why.\n",
    "\n",
    "For \"intellect\",\"hire\" and \"impression ratings, it is more suitable to chose a two-tailed t-test because we are interested in whether there is any difference in ratings between the two groups, without specifying the direction of the difference.."
   ]
  },
  {
   "cell_type": "markdown",
   "metadata": {
    "id": "073zOlIsI5ws"
   },
   "source": [
    "Q6c (answer in words):\n",
    "\n",
    "What are the independent variable and the dependent variable here?\n",
    "\n",
    "\n",
    "The independet variable here is the \"condition\" (listen vs. read)\n",
    "The dependent variables are the overall ratings (\"intellect\",\"hire\", \"impression\")"
   ]
  },
  {
   "cell_type": "markdown",
   "metadata": {
    "id": "4g-SpuDX23iL"
   },
   "source": [
    "\n",
    "To clarify, we are going to run three between-subjects t-tests in total; one for intellect ratings; one for hire ratings; one for impression ratings.\n",
    "\n",
    "**Instructions:**\n",
    "\n",
    "1. Descriptive analysis of the ratings.\n",
    "\n",
    "2. Test for normal distribution (Shapiro-Wilk test) and homogeneity of variances (Levene's test) for the intellect, impression, and hire ratings.\n",
    "\n",
    "3. Conduct independent t-tests comparing intellect, impression, and hire ratings between conditions (listened vs. read).\n",
    "\n",
    "Hints: three T-tests need to be performed.\n",
    "\n",
    "**Question 7**:\n",
    "\n",
    "a: Print the test results.\n",
    "\n",
    "b: Interpret the results of the above descriptive statistics, Shapiro-Wilk test, Levene's test, and independent t-tests. Explian why we use these tests and how we made our decisions based on the test result."
   ]
  },
  {
   "cell_type": "code",
   "execution_count": 121,
   "metadata": {
    "id": "QD3ZZRrAq4Gc"
   },
   "outputs": [
    {
     "data": {
      "text/html": [
       "<div>\n",
       "<style scoped>\n",
       "    .dataframe tbody tr th:only-of-type {\n",
       "        vertical-align: middle;\n",
       "    }\n",
       "\n",
       "    .dataframe tbody tr th {\n",
       "        vertical-align: top;\n",
       "    }\n",
       "\n",
       "    .dataframe thead th {\n",
       "        text-align: right;\n",
       "    }\n",
       "</style>\n",
       "<table border=\"1\" class=\"dataframe\">\n",
       "  <thead>\n",
       "    <tr style=\"text-align: right;\">\n",
       "      <th></th>\n",
       "      <th></th>\n",
       "      <th>count</th>\n",
       "      <th>mean</th>\n",
       "      <th>std</th>\n",
       "      <th>min</th>\n",
       "      <th>25%</th>\n",
       "      <th>50%</th>\n",
       "      <th>75%</th>\n",
       "      <th>max</th>\n",
       "    </tr>\n",
       "    <tr>\n",
       "      <th>Category</th>\n",
       "      <th>condition</th>\n",
       "      <th></th>\n",
       "      <th></th>\n",
       "      <th></th>\n",
       "      <th></th>\n",
       "      <th></th>\n",
       "      <th></th>\n",
       "      <th></th>\n",
       "      <th></th>\n",
       "    </tr>\n",
       "  </thead>\n",
       "  <tbody>\n",
       "    <tr>\n",
       "      <th rowspan=\"2\" valign=\"top\">hire</th>\n",
       "      <th>listened</th>\n",
       "      <td>21.0</td>\n",
       "      <td>4.714286</td>\n",
       "      <td>2.261479</td>\n",
       "      <td>0.000000</td>\n",
       "      <td>4.000000</td>\n",
       "      <td>5.000000</td>\n",
       "      <td>7.000000</td>\n",
       "      <td>8.000000</td>\n",
       "    </tr>\n",
       "    <tr>\n",
       "      <th>read</th>\n",
       "      <td>18.0</td>\n",
       "      <td>2.888889</td>\n",
       "      <td>2.054805</td>\n",
       "      <td>0.000000</td>\n",
       "      <td>1.250000</td>\n",
       "      <td>2.000000</td>\n",
       "      <td>4.000000</td>\n",
       "      <td>7.000000</td>\n",
       "    </tr>\n",
       "    <tr>\n",
       "      <th rowspan=\"2\" valign=\"top\">impression</th>\n",
       "      <th>listened</th>\n",
       "      <td>21.0</td>\n",
       "      <td>5.968254</td>\n",
       "      <td>1.917477</td>\n",
       "      <td>2.333333</td>\n",
       "      <td>4.666667</td>\n",
       "      <td>6.666667</td>\n",
       "      <td>7.333333</td>\n",
       "      <td>8.666667</td>\n",
       "    </tr>\n",
       "    <tr>\n",
       "      <th>read</th>\n",
       "      <td>18.0</td>\n",
       "      <td>4.074074</td>\n",
       "      <td>2.233306</td>\n",
       "      <td>0.333333</td>\n",
       "      <td>2.166667</td>\n",
       "      <td>4.500000</td>\n",
       "      <td>5.333333</td>\n",
       "      <td>7.333333</td>\n",
       "    </tr>\n",
       "    <tr>\n",
       "      <th rowspan=\"2\" valign=\"top\">intellect</th>\n",
       "      <th>listened</th>\n",
       "      <td>21.0</td>\n",
       "      <td>5.634921</td>\n",
       "      <td>1.608674</td>\n",
       "      <td>2.333333</td>\n",
       "      <td>5.000000</td>\n",
       "      <td>5.666667</td>\n",
       "      <td>6.000000</td>\n",
       "      <td>9.000000</td>\n",
       "    </tr>\n",
       "    <tr>\n",
       "      <th>read</th>\n",
       "      <td>18.0</td>\n",
       "      <td>3.648148</td>\n",
       "      <td>1.911343</td>\n",
       "      <td>0.666667</td>\n",
       "      <td>2.083333</td>\n",
       "      <td>3.666667</td>\n",
       "      <td>4.666667</td>\n",
       "      <td>7.000000</td>\n",
       "    </tr>\n",
       "  </tbody>\n",
       "</table>\n",
       "</div>"
      ],
      "text/plain": [
       "                      count      mean       std       min       25%       50%  \\\n",
       "Category   condition                                                            \n",
       "hire       listened    21.0  4.714286  2.261479  0.000000  4.000000  5.000000   \n",
       "           read        18.0  2.888889  2.054805  0.000000  1.250000  2.000000   \n",
       "impression listened    21.0  5.968254  1.917477  2.333333  4.666667  6.666667   \n",
       "           read        18.0  4.074074  2.233306  0.333333  2.166667  4.500000   \n",
       "intellect  listened    21.0  5.634921  1.608674  2.333333  5.000000  5.666667   \n",
       "           read        18.0  3.648148  1.911343  0.666667  2.083333  3.666667   \n",
       "\n",
       "                           75%       max  \n",
       "Category   condition                      \n",
       "hire       listened   7.000000  8.000000  \n",
       "           read       4.000000  7.000000  \n",
       "impression listened   7.333333  8.666667  \n",
       "           read       5.333333  7.333333  \n",
       "intellect  listened   6.000000  9.000000  \n",
       "           read       4.666667  7.000000  "
      ]
     },
     "execution_count": 121,
     "metadata": {},
     "output_type": "execute_result"
    }
   ],
   "source": [
    "##Q7a (code):\n",
    "from scipy.stats import shapiro, levene, ttest_ind, mannwhitneyu # used for statistical testing \n",
    "\n",
    "# Descriptive analysis of the ratings\n",
    "\n",
    "descriptive_stats = ratings2.groupby(['Category', 'condition'])['Rating'].describe()\n",
    "\n",
    "descriptive_stats"
   ]
  },
  {
   "cell_type": "code",
   "execution_count": 118,
   "metadata": {},
   "outputs": [
    {
     "name": "stdout",
     "output_type": "stream",
     "text": [
      "Shapiro-Wilk Intellect Score: 0.9747602939605713\n",
      "Shapiro-Wilk Intellect P-Value: 0.5182666182518005\n",
      "\n",
      "Shapiro-Wilk Hire Score: 0.9427909851074219\n",
      "Shapiro-Wilk Hire P-Value: 0.04710369557142258\n",
      "\n",
      "Shapiro-Wilk Impression Score: 0.9595587849617004\n",
      "Shapiro-Wilk Impression P-Value: 0.17238670587539673\n"
     ]
    }
   ],
   "source": [
    "# Before running the shapiro test we need to create sub datafrmes for each category\n",
    "intellect_ratings = ratings2[ratings2['Category'] == 'intellect']\n",
    "impression_ratings = ratings2[ratings2['Category'] == 'impression']\n",
    "hire_ratings = ratings2[ratings2['Category'] == 'hire']\n",
    "\n",
    "# Test for normal distribution (Shapiro-Wilk test)\n",
    "score_shapiro_intellect, p_val_shapiro_intellect = shapiro(intellect_ratings['Rating'])\n",
    "print('Shapiro-Wilk Intellect Score:', score_shapiro_intellect)\n",
    "print('Shapiro-Wilk Intellect P-Value:', p_val_shapiro_intellect)\n",
    "print('')\n",
    "\n",
    "score_shapiro_hire, p_val_shapiro_hire = shapiro(hire_ratings[\"Rating\"])\n",
    "print(\"Shapiro-Wilk Hire Score:\", score_shapiro_hire)\n",
    "print(\"Shapiro-Wilk Hire P-Value:\", p_val_shapiro_hire)\n",
    "print('')\n",
    "\n",
    "score_shapiro_impression, p_val_shapiro_impression = shapiro(impression_ratings[\"Rating\"])\n",
    "print(\"Shapiro-Wilk Impression Score:\", score_shapiro_impression)\n",
    "print(\"Shapiro-Wilk Impression P-Value:\", p_val_shapiro_impression)"
   ]
  },
  {
   "cell_type": "markdown",
   "metadata": {},
   "source": [
    "We can see that for intellect and impression the p-value > 0.05 indicating normality, while hire's p-value is less than 0.05, indicate that the sample may not be normally distributed and we need a non-parametric test.\n",
    "Thus, we will use a different t-test for hire, the Mann-Whiotney t-test."
   ]
  },
  {
   "cell_type": "code",
   "execution_count": 122,
   "metadata": {},
   "outputs": [
    {
     "name": "stdout",
     "output_type": "stream",
     "text": [
      "Levene's test is not significant - proceed\n"
     ]
    }
   ],
   "source": [
    "# Test for homogeneity of variances (Levene's test)\n",
    "# Test for homogeneity of variances (Levene's test)\n",
    "intellect_levene = ratings2[ratings2['Category'] == 'intellect']['Rating']\n",
    "impression_levene = ratings2[ratings2['Category'] == 'impression']['Rating']\n",
    "hire_levene = ratings2[ratings2['Category'] == 'hire']['Rating']\n",
    "\n",
    "\n",
    "statistic, p_value = levene(intellect_levene, impression_levene, hire_levene)\n",
    "if p_value < 0.05:\n",
    "    print(\"Levene's test is significant - use Welch's test\")\n",
    "else:\n",
    "    print(\"Levene's test is not significant - proceed\")"
   ]
  },
  {
   "cell_type": "code",
   "execution_count": 123,
   "metadata": {},
   "outputs": [
    {
     "name": "stdout",
     "output_type": "stream",
     "text": [
      "Reject the null hypothesis for intellect, as there is significant statistical difference between the ratings\n",
      "Reject the null hypothesis for impression, as there is significant statistical difference between the ratings\n",
      "Reject the null hypothesis for hire, as there is significant statistical difference between the ratings\n"
     ]
    }
   ],
   "source": [
    "# Independent t-tests\n",
    "# Independent t-tests\n",
    "intellect_listened = ratings2[(ratings2['Category'] == 'intellect') & (ratings2['condition'] == 'listened')]['Rating']\n",
    "intellect_read = ratings2[(ratings2['Category'] == 'intellect') & (ratings2['condition'] == 'read')]['Rating']\n",
    "\n",
    "impression_listened = ratings2[(ratings2['Category'] == 'impression') & (ratings2['condition'] == 'listened')]['Rating']\n",
    "impression_read = ratings2[(ratings2['Category'] == 'impression') & (ratings2['condition'] == 'read')]['Rating']\n",
    "\n",
    "hire_listened = ratings2[(ratings2['Category'] == 'hire') & (ratings2['condition'] == 'listened')]['Rating']\n",
    "hire_read = ratings2[(ratings2['Category'] == 'hire') & (ratings2['condition'] == 'read')]['Rating']\n",
    "\n",
    "# Run the tests\n",
    "t_stat_intellect, p_val_intellect = ttest_ind(intellect_listened, intellect_read)\n",
    "t_stat_impression, p_val_impression = ttest_ind(impression_listened, impression_read)\n",
    "t_stat_hire, p_val_hire = mannwhitneyu(hire_listened, hire_read)\n",
    "\n",
    "if p_val_intellect < 0.05:\n",
    "    print(\"Reject the null hypothesis for intellect, as there is significant statistical difference between the ratings\")\n",
    "else:\n",
    "    print(\"There is no significant difference. Fail to reject the null hypothesis for intellect.\")\n",
    "\n",
    "if p_val_impression < 0.05:\n",
    "    print(\"Reject the null hypothesis for impression, as there is significant statistical difference between the ratings\")\n",
    "else:\n",
    "    print(\"There is no significant difference.Fail to reject the null hypothesis for impression.\")\n",
    "\n",
    "if p_val_hire < 0.05:\n",
    "    print(\"Reject the null hypothesis for hire, as there is significant statistical difference between the ratings\")\n",
    "else:\n",
    "    print(\"There is no significant difference. Fail to reject the null hypothesis for hire\")"
   ]
  },
  {
   "cell_type": "markdown",
   "metadata": {
    "id": "aifm_T8UQwYm"
   },
   "source": [
    "Q7b (answer in words):"
   ]
  },
  {
   "cell_type": "markdown",
   "metadata": {},
   "source": [
    "From the descriptive statistics we can get a first glimpse to measures such as mean, standard deviation etc. That way we can have an overview of the distribution of ratings for each group, in our case \"read\" and \"listen\" and we can identify some main patters and observation for each type of ratings. With the Shapiro-Wilk Test we are checking  if the sample comes from a normally distributed population. We performed the test for each rating category and each condition to check the normality that is required for running t-tests.If the p-value is greater than the chosen significance level (e.g., 0.05), we fail to reject the null hypothesis, indicating that the data may be normally distributed.\r\n",
    "If the p-value is less than the significance level, we reject the null hypothesis, suggesting that the data may not be normally distributed Then we use Levene's test to check the assumption of homogeneity of variances required for t-tests.\r\n",
    "If the p-value is greater than the chosen significance level, we fail to reject the null hypothesis, indicating that the variances are approximately equal across groups.\r\n",
    "If the p-value is less than the significance level, we reject the null hypothesis, suggesting that the variances are not equal across group Then we run two tailed t-test for each rating searching the difference between the means of the two variables listened or read. Intellect and impression after the results from Shapiro and Levene's test showed that we needed to perform a parametric test, while hire showd us from shapiro test that the distribution was not normal and therefore, a non-parametric test was more suitable. After running the tests we show that all p-values were less than 0.05, indicating that we can reject the null hypothesis for all types of rating. This means that there is sufficient evidence that there is a significant statistical difference in the mean ratings of intellect, hire, and impression between the evaluators who read and those who listened to pitches. s.."
   ]
  }
 ],
 "metadata": {
  "colab": {
   "provenance": []
  },
  "kernelspec": {
   "display_name": "Python 3 (ipykernel)",
   "language": "python",
   "name": "python3"
  },
  "language_info": {
   "codemirror_mode": {
    "name": "ipython",
    "version": 3
   },
   "file_extension": ".py",
   "mimetype": "text/x-python",
   "name": "python",
   "nbconvert_exporter": "python",
   "pygments_lexer": "ipython3",
   "version": "3.11.4"
  }
 },
 "nbformat": 4,
 "nbformat_minor": 4
}
